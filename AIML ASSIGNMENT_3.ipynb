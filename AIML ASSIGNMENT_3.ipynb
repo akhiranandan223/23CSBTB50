{
  "nbformat": 4,
  "nbformat_minor": 0,
  "metadata": {
    "colab": {
      "provenance": []
    },
    "kernelspec": {
      "name": "python3",
      "display_name": "Python 3"
    },
    "language_info": {
      "name": "python"
    }
  },
  "cells": [
    {
      "cell_type": "code",
      "source": [
        "#PART-1"
      ],
      "metadata": {
        "id": "xI0rviVh7j8B"
      },
      "execution_count": null,
      "outputs": []
    },
    {
      "cell_type": "code",
      "execution_count": 32,
      "metadata": {
        "id": "ls-8GfR9y1q3"
      },
      "outputs": [],
      "source": [
        "from collections import defaultdict,Counter,defaultdict\n",
        "import random\n",
        "from functools import partial,reduce\n",
        "import math\n",
        "import functools\n",
        "cache = functools.lru_cache(10**6)\n",
        "\n",
        ""
      ]
    },
    {
      "cell_type": "code",
      "source": [
        "class Game:\n",
        "    def actions(self, state ):\n",
        "        raise NotImplementedError\n",
        "        def result(self, state , move ):\n",
        "          raise NotImplementedError\n",
        "        def is_terminal (self, state ):\n",
        "          return not self.actions(state)\n",
        "          def utility(self, state , player ):\n",
        "            raise NotImplementedError\n",
        "            def play_game (game , strategies : dict , verbose=False ):\n",
        "              state = game.initial\n",
        "              while not game.terminal (state ):\n",
        "                player = state. to_move\n",
        "                move = strategies [player ](game , state)\n",
        "                state = game.result(state , move)\n",
        "                if verbose:\n",
        "                    print('Player', player , 'move:', move)\n",
        "                    print(state)\n",
        "                    return state.utility(player)"
      ],
      "metadata": {
        "id": "pzOTz4cC6pWk"
      },
      "execution_count": 34,
      "outputs": []
    },
    {
      "cell_type": "code",
      "source": [
        "#PART-2  Q1"
      ],
      "metadata": {
        "id": "IqfOYRHe7nab"
      },
      "execution_count": null,
      "outputs": []
    },
    {
      "cell_type": "code",
      "source": [
        "from collections import defaultdict,Counter,defaultdict\n",
        "import random\n",
        "from functools import partial,reduce\n",
        "import math\n",
        "import functools\n",
        "cache = functools.lru_cache(10**6)\n"
      ],
      "metadata": {
        "id": "l6Hwk5Dc7sdE"
      },
      "execution_count": 35,
      "outputs": []
    },
    {
      "cell_type": "code",
      "source": [
        "def minimax_search (game , state ):\n",
        "  player = state. to_move\n",
        "  def max_value (state ):\n",
        "    if game. is_terminal (state ):\n",
        "      return game.utility(state , player), None\n",
        "      v, move = -infinity , None\n",
        "      for a in game.actions(state ):\n",
        "        v2 , = min_value (game.result(state , a))\n",
        "        if v2 > v:\n",
        "          v, move = v2 , a\n",
        "          return v, move\n",
        "          def min_value (state ):\n",
        "            if game. is_terminal (state ):\n",
        "              return game.utility(state , player), None\n",
        "              v, move = +infinity , None\n",
        "              for a in game.actions(state ):\n",
        "                v2 , = max_value (game.result(state , a))\n",
        "                if v2 < v:\n",
        "                  v, move = v2 , a\n",
        "                  return v, move\n",
        "                  return max_value (state)\n",
        "                  infinity = math.inf"
      ],
      "metadata": {
        "id": "nZNacTdP8VPH"
      },
      "execution_count": 36,
      "outputs": []
    },
    {
      "cell_type": "code",
      "source": [
        "#PART-2 Q2"
      ],
      "metadata": {
        "id": "dLWvO8QR9jDI"
      },
      "execution_count": null,
      "outputs": []
    },
    {
      "cell_type": "code",
      "source": [
        "from collections import defaultdict,Counter,defaultdict\n",
        "import random\n",
        "from functools import partial,reduce\n",
        "import math\n",
        "import functools\n",
        "cache = functools.lru_cache(10**6)"
      ],
      "metadata": {
        "id": "ye2m_Y2a9nAa"
      },
      "execution_count": 39,
      "outputs": []
    },
    {
      "cell_type": "code",
      "source": [
        "def alphabeta_search (game , state ):\n",
        "  player = state. to_move\n",
        "def max_value (state , alpha , beta ):\n",
        "  if game. is_terminal (state ):\n",
        "    return game.utility(state , player), None\n",
        "    v, move = -infinity , None\n",
        "    for a in game.actions(state ):\n",
        "      v2 , = min_value (game.result(state , a), alpha , beta)\n",
        "      if v2 > v:\n",
        "        v, move = v2 , a\n",
        "        alpha = max(alpha , v)\n",
        "        if v >= beta:\n",
        "          return v, move\n",
        "          return v, move\n",
        "          def min_value (state , alpha , beta ):\n",
        "            if game. is_terminal (state ):\n",
        "              return game.utility(state , player), None\n",
        "              v, move = +infinity , None\n",
        "              for a in game.actions(state ):\n",
        "                v2 , = max_value (game.result(state , a), alpha , beta)\n",
        "                if v2 < v:\n",
        "                  v, move = v2 , a\n",
        "                  beta = min(beta , v)\n",
        "                  if v <= alpha:\n",
        "                    return v, move\n",
        "                    return v, move\n",
        "                    return max_value (state , -infinity , +infinity )"
      ],
      "metadata": {
        "id": "mTNwj3ZI9uWc"
      },
      "execution_count": 40,
      "outputs": []
    },
    {
      "cell_type": "code",
      "source": [
        "#PART-3 Q1"
      ],
      "metadata": {
        "id": "zDRR5J7G_Gw5"
      },
      "execution_count": null,
      "outputs": []
    },
    {
      "cell_type": "code",
      "source": [
        "from collections import defaultdict,Counter,defaultdict\n",
        "import random\n",
        "from functools import partial,reduce\n",
        "import math\n",
        "import functools\n",
        "cache = functools.lru_cache(10**6)"
      ],
      "metadata": {
        "id": "esp293wx_DeE"
      },
      "execution_count": 48,
      "outputs": []
    },
    {
      "cell_type": "code",
      "source": [
        "class TicTacToe (Game ):\n",
        "  def init (self, height =3, width =3, k=3):\n",
        "    self.k = k # k in a row\n",
        "    self.squares = {(x, y) for x in range(width) for y in range(height)}\n",
        "    self.initial = Board (height=height, width=width , to_move ='X', utility =0)\n",
        "    def actions(self, board ):\n",
        "      return self.squares - set(board)\n",
        "      def result(self, board , square ):\n",
        "        player = board. to_move\n",
        "        board = board.new({square: player}, to_move =('O' if player == 'X' else 'X'))\n",
        "        win = k in row (board , player , square , self.k)\n",
        "        board.utility = (0 if not win else +1 if player == 'X' else -1)\n",
        "        return board\n",
        "        def utility(self, board , player ):\n",
        "          return board.utility if player == 'X' else -board.utility\n",
        "          def is_terminal (self, board ):\n",
        "            return board.utility != 0 or len(self.squares) == len(board)\n",
        "            def display(self, board ): print(board)\n",
        "            def k_in_row (board , player , square , k):\n",
        "              def_in_row (x, y, dx , dy)\n",
        "              return 0 if board[x, y] != player else 1 + in_row (x + dx , y + dy , dx , dy)\n",
        "              return any( in_row(*square , dx , dy) + in_row(*square , -dx , -dy)-1>=k\n",
        "                         for (dx , dy) in ((0, 1), (1, 0), (1, 1), (1, -1)))\n"
      ],
      "metadata": {
        "id": "bC5yXZhA_PRm"
      },
      "execution_count": 47,
      "outputs": []
    },
    {
      "cell_type": "code",
      "source": [
        "#PART-3 Q2"
      ],
      "metadata": {
        "id": "jCoTtPwXBfYz"
      },
      "execution_count": null,
      "outputs": []
    },
    {
      "cell_type": "code",
      "source": [
        "from collections import defaultdict,Counter,defaultdict\n",
        "import random\n",
        "from functools import partial,reduce\n",
        "import math\n",
        "import functools\n",
        "cache = functools.lru_cache(10**6)"
      ],
      "metadata": {
        "id": "ysq0nAK4Bklf"
      },
      "execution_count": 49,
      "outputs": []
    },
    {
      "cell_type": "code",
      "source": [
        "class Board( defaultdict ):\n",
        "  empty = '.'\n",
        "  off = '#'\n",
        "  def init (self, width =8, height =8, to_move =None , **kwds ):\n",
        "    self. dict .update (width=width , height=height , to_move = to_move , **kwds)\n",
        "    def new (self, changes: dict , **kwds) -> 'Board':\n",
        "      board = Board (width=self.width , height=self.height , **kwds)\n",
        "      board.update(self)\n",
        "      board.update(changes)\n",
        "      return board\n",
        "def missing (self, loc ):\n",
        "  x, y = loc\n",
        "  if 0 <= x < self.width and 0 <= y < self.height:\n",
        "    return self.empty\n",
        "  else:\n",
        "    return self.off\n",
        "    def hash (self):\n",
        "      return hash(tuple(sorted(self.items ()))) + hash(self. to_move )\n",
        "      def repr (self):\n",
        "        def row(y): return  ''.join(self[x, y] for x in range(self.width ))\n",
        "        return '\\n'.join(map(row , range(self.height ))) + '\\n'"
      ],
      "metadata": {
        "id": "Hg7qmwPkBnaS"
      },
      "execution_count": 51,
      "outputs": []
    },
    {
      "cell_type": "code",
      "source": [
        "#PART-3 Q3"
      ],
      "metadata": {
        "id": "d8L60TxbDG3Z"
      },
      "execution_count": null,
      "outputs": []
    },
    {
      "cell_type": "code",
      "source": [
        "from collections import defaultdict,Counter,defaultdict\n",
        "import random\n",
        "from functools import partial,reduce\n",
        "import math\n",
        "import functools\n",
        "cache = functools.lru_cache(10**6)"
      ],
      "metadata": {
        "id": "k1zlaCcADMHc"
      },
      "execution_count": 52,
      "outputs": []
    },
    {
      "cell_type": "code",
      "source": [
        "def random_player (game , state ):\n",
        "  return random.choice(list(game.actions(state )))\n",
        "def player( search_algorithm ):\n",
        "  return lambda game , state: search_algorithm (game , state )[1]"
      ],
      "metadata": {
        "id": "C8EdkMxQDObX"
      },
      "execution_count": 53,
      "outputs": []
    }
  ]
}